{
 "cells": [
  {
   "cell_type": "code",
   "execution_count": 62,
   "metadata": {
    "collapsed": false,
    "scrolled": true
   },
   "outputs": [
    {
     "name": "stdout",
     "output_type": "stream",
     "text": [
      "\n",
      "[MoviePy] Running:\n",
      ">>> /Users/LuQiang/Library/Application Support/imageio/ffmpeg/ffmpeg.osx -y -i Seed66_R-DICA_6in6out_0.45.wmv -ss 1132.00 -t 30.00 -vcodec copy -acodec copy 0.45subVideo4.wmv\n",
      "... command successful.\n"
     ]
    }
   ],
   "source": [
    "from moviepy.video.io.ffmpeg_tools import ffmpeg_extract_subclip\n",
    "videoFileName = 'Seed66_R-DICA_6in6out_0.1.wmv'\n",
    "videoFileName = 'Seed66_R-DICA_6in6out_0.15.wmv'\n",
    "videoFileName = 'Seed66_R-DICA_6in6out_0.25.wmv'\n",
    "videoFileName = 'Seed66_R-DICA_6in6out_0.35.wmv'\n",
    "videoFileName = 'Seed66_R-DICA_6in6out_0.45.wmv'\n",
    "\n",
    "n = 1 \n",
    "n = 2\n",
    "n = 3\n",
    "n = 4\n",
    "n = 5\n",
    "minutes = 18\n",
    "seconds = 52\n",
    "t = 60 * minutes + seconds\n",
    "\n",
    "# starting time t1, end time t2, in seconds.\n",
    "t1 = t\n",
    "t2 = t + 25 + 5\n",
    "ffmpeg_extract_subclip(videoFileName, t1, t2, targetname='0.45subVideo'+str(n)+'.wmv')"
   ]
  },
  {
   "cell_type": "code",
   "execution_count": 6,
   "metadata": {
    "collapsed": false
   },
   "outputs": [
    {
     "name": "stdout",
     "output_type": "stream",
     "text": [
      "Seed66_R_DICA_6in6out_0.1 .wmv\n"
     ]
    }
   ],
   "source": [
    "import os\n",
    "name,ext = os.path.splitext(videoFileName)\n",
    "print (name, ext)"
   ]
  },
  {
   "cell_type": "code",
   "execution_count": null,
   "metadata": {
    "collapsed": true
   },
   "outputs": [],
   "source": []
  }
 ],
 "metadata": {
  "anaconda-cloud": {},
  "kernelspec": {
   "display_name": "Python [conda env:carnd-term1]",
   "language": "python",
   "name": "conda-env-carnd-term1-py"
  },
  "language_info": {
   "codemirror_mode": {
    "name": "ipython",
    "version": 3
   },
   "file_extension": ".py",
   "mimetype": "text/x-python",
   "name": "python",
   "nbconvert_exporter": "python",
   "pygments_lexer": "ipython3",
   "version": "3.5.2"
  }
 },
 "nbformat": 4,
 "nbformat_minor": 1
}
