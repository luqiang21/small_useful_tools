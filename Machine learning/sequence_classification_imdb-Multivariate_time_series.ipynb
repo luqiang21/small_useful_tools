{
 "cells": [
  {
   "cell_type": "code",
   "execution_count": 3,
   "metadata": {},
   "outputs": [],
   "source": [
    "import numpy\n",
    "from keras.datasets import imdb\n",
    "from keras.models import Sequential\n",
    "from keras.layers import Dense\n",
    "from keras.layers import LSTM\n",
    "from keras.layers.embeddings import Embedding\n",
    "from keras.preprocessing import sequence\n",
    "# fix random seed for reproducibility\n",
    "numpy.random.seed(21)"
   ]
  },
  {
   "cell_type": "code",
   "execution_count": 4,
   "metadata": {},
   "outputs": [
    {
     "name": "stdout",
     "output_type": "stream",
     "text": [
      "Downloading data from https://s3.amazonaws.com/text-datasets/imdb.npz\n",
      "17465344/17464789 [==============================] - 24s 1us/step\n"
     ]
    }
   ],
   "source": [
    "# load the dataset but only keep the top n words, zero the rest\n",
    "top_words = 5000\n",
    "(X_train, y_train), (X_test, y_test) = imdb.load_data(num_words=top_words)"
   ]
  },
  {
   "cell_type": "code",
   "execution_count": 10,
   "metadata": {},
   "outputs": [
    {
     "data": {
      "text/plain": [
       "array([1, 0, 0, ..., 0, 1, 0])"
      ]
     },
     "execution_count": 10,
     "metadata": {},
     "output_type": "execute_result"
    }
   ],
   "source": [
    "y_train"
   ]
  },
  {
   "cell_type": "code",
   "execution_count": 11,
   "metadata": {},
   "outputs": [],
   "source": [
    "# truncate and pad input sequences\n",
    "max_review_length = 500\n",
    "X_train = sequence.pad_sequences(X_train, maxlen=max_review_length)\n",
    "X_test = sequence.pad_sequences(X_test, maxlen=max_review_length)"
   ]
  },
  {
   "cell_type": "code",
   "execution_count": 13,
   "metadata": {},
   "outputs": [
    {
     "name": "stdout",
     "output_type": "stream",
     "text": [
      "_________________________________________________________________\n",
      "Layer (type)                 Output Shape              Param #   \n",
      "=================================================================\n",
      "embedding_1 (Embedding)      (None, 500, 32)           160000    \n",
      "_________________________________________________________________\n",
      "lstm_1 (LSTM)                (None, 100)               53200     \n",
      "_________________________________________________________________\n",
      "dense_1 (Dense)              (None, 1)                 101       \n",
      "=================================================================\n",
      "Total params: 213,301\n",
      "Trainable params: 213,301\n",
      "Non-trainable params: 0\n",
      "_________________________________________________________________\n",
      "None\n",
      "Train on 25000 samples, validate on 25000 samples\n",
      "Epoch 1/3\n",
      "25000/25000 [==============================] - 650s 26ms/step - loss: 0.4683 - acc: 0.7687 - val_loss: 0.3371 - val_acc: 0.8559\n",
      "Epoch 2/3\n",
      "25000/25000 [==============================] - 671s 27ms/step - loss: 0.3270 - acc: 0.8638 - val_loss: 0.3285 - val_acc: 0.8633\n",
      "Epoch 3/3\n",
      "25000/25000 [==============================] - 483s 19ms/step - loss: 0.2603 - acc: 0.9000 - val_loss: 0.3185 - val_acc: 0.8713\n"
     ]
    },
    {
     "data": {
      "text/plain": [
       "<keras.callbacks.History at 0x1824da6588>"
      ]
     },
     "execution_count": 13,
     "metadata": {},
     "output_type": "execute_result"
    }
   ],
   "source": [
    "# create the model\n",
    "embedding_vecor_length = 32\n",
    "model = Sequential()\n",
    "model.add(Embedding(top_words, embedding_vecor_length, input_length=max_review_length))\n",
    "model.add(LSTM(100))\n",
    "model.add(Dense(1, activation='sigmoid'))\n",
    "model.compile(loss='binary_crossentropy', optimizer='adam', metrics=['accuracy'])\n",
    "print(model.summary())\n",
    "model.fit(X_train, y_train, validation_data=(X_test, y_test), epochs=3, batch_size=64)"
   ]
  },
  {
   "cell_type": "code",
   "execution_count": 14,
   "metadata": {},
   "outputs": [
    {
     "name": "stdout",
     "output_type": "stream",
     "text": [
      "Accuracy: 87.13%\n"
     ]
    }
   ],
   "source": [
    "# Final evaluation of the model\n",
    "scores = model.evaluate(X_test, y_test, verbose=0)\n",
    "print(\"Accuracy: %.2f%%\" % (scores[1]*100))"
   ]
  },
  {
   "cell_type": "markdown",
   "metadata": {},
   "source": [
    "## LSTM and Convolutional Neural Network For Sequence Classification"
   ]
  },
  {
   "cell_type": "code",
   "execution_count": 15,
   "metadata": {},
   "outputs": [
    {
     "name": "stdout",
     "output_type": "stream",
     "text": [
      "_________________________________________________________________\n",
      "Layer (type)                 Output Shape              Param #   \n",
      "=================================================================\n",
      "embedding_2 (Embedding)      (None, 500, 32)           160000    \n",
      "_________________________________________________________________\n",
      "conv1d_1 (Conv1D)            (None, 500, 32)           3104      \n",
      "_________________________________________________________________\n",
      "max_pooling1d_1 (MaxPooling1 (None, 250, 32)           0         \n",
      "_________________________________________________________________\n",
      "lstm_2 (LSTM)                (None, 100)               53200     \n",
      "_________________________________________________________________\n",
      "dense_2 (Dense)              (None, 1)                 101       \n",
      "=================================================================\n",
      "Total params: 216,405\n",
      "Trainable params: 216,405\n",
      "Non-trainable params: 0\n",
      "_________________________________________________________________\n",
      "None\n",
      "Epoch 1/3\n",
      "25000/25000 [==============================] - 218s 9ms/step - loss: 0.4498 - acc: 0.7766\n",
      "Epoch 2/3\n",
      "25000/25000 [==============================] - 179s 7ms/step - loss: 0.2520 - acc: 0.9007\n",
      "Epoch 3/3\n",
      "25000/25000 [==============================] - 214s 9ms/step - loss: 0.2076 - acc: 0.9207\n",
      "Accuracy: 88.45%\n"
     ]
    }
   ],
   "source": [
    "# LSTM and CNN for sequence classification in the IMDB dataset\n",
    "import numpy\n",
    "from keras.datasets import imdb\n",
    "from keras.models import Sequential\n",
    "from keras.layers import Dense\n",
    "from keras.layers import LSTM\n",
    "from keras.layers.convolutional import Conv1D\n",
    "from keras.layers.convolutional import MaxPooling1D\n",
    "from keras.layers.embeddings import Embedding\n",
    "from keras.preprocessing import sequence\n",
    "\n",
    "# fix random seed for reproducibility\n",
    "numpy.random.seed(21)\n",
    "\n",
    "# load the dataset but only keep the top n words, zero the rest\n",
    "top_words = 5000\n",
    "(X_train, y_train), (X_test, y_test) = imdb.load_data(num_words=top_words)\n",
    "\n",
    "# truncate and pad input sequences\n",
    "max_review_length = 500\n",
    "X_train = sequence.pad_sequences(X_train, maxlen=max_review_length)\n",
    "X_test = sequence.pad_sequences(X_test, maxlen=max_review_length)\n",
    "\n",
    "# create the model\n",
    "embedding_vecor_length = 32\n",
    "model = Sequential()\n",
    "model.add(Embedding(top_words, embedding_vecor_length, input_length=max_review_length))\n",
    "model.add(Conv1D(filters=32, kernel_size=3, padding='same', activation='relu'))\n",
    "model.add(MaxPooling1D(pool_size=2))\n",
    "model.add(LSTM(100))\n",
    "model.add(Dense(1, activation='sigmoid'))\n",
    "model.compile(loss='binary_crossentropy', optimizer='adam', metrics=['accuracy'])\n",
    "print(model.summary())\n",
    "model.fit(X_train, y_train, epochs=3, batch_size=64)\n",
    "\n",
    "# Final evaluation of the model\n",
    "scores = model.evaluate(X_test, y_test, verbose=0)\n",
    "print(\"Accuracy: %.2f%%\" % (scores[1]*100))"
   ]
  },
  {
   "cell_type": "markdown",
   "metadata": {},
   "source": [
    "## multivariate-time-series-forecasting-lstms-keras"
   ]
  },
  {
   "cell_type": "code",
   "execution_count": 16,
   "metadata": {},
   "outputs": [
    {
     "name": "stdout",
     "output_type": "stream",
     "text": [
      "                     pollution  dew  temp   press wnd_dir  wnd_spd  snow  rain\n",
      "date                                                                          \n",
      "2010-01-02 00:00:00      129.0  -16  -4.0  1020.0      SE     1.79     0     0\n",
      "2010-01-02 01:00:00      148.0  -15  -4.0  1020.0      SE     2.68     0     0\n",
      "2010-01-02 02:00:00      159.0  -11  -5.0  1021.0      SE     3.57     0     0\n",
      "2010-01-02 03:00:00      181.0   -7  -5.0  1022.0      SE     5.36     1     0\n",
      "2010-01-02 04:00:00      138.0   -7  -5.0  1022.0      SE     6.25     2     0\n"
     ]
    }
   ],
   "source": [
    "from pandas import read_csv\n",
    "from datetime import datetime\n",
    "# load data\n",
    "def parse(x):\n",
    "    return datetime.strptime(x, '%Y %m %d %H')\n",
    "dataset = read_csv('beijing_air_quality.csv',  parse_dates = [['year', 'month', 'day', 'hour']], index_col=0, date_parser=parse)\n",
    "dataset.drop('No', axis=1, inplace=True)\n",
    "\n",
    "# manually specify column names\n",
    "dataset.columns = ['pollution', 'dew', 'temp', 'press', 'wnd_dir', 'wnd_spd', 'snow', 'rain']\n",
    "dataset.index.name = 'date'\n",
    "\n",
    "# mark all NA values with 0\n",
    "dataset['pollution'].fillna(0, inplace=True)\n",
    "\n",
    "# drop the first 24 hours\n",
    "dataset = dataset[24:]\n",
    "\n",
    "# summarize first 5 rows\n",
    "print(dataset.head(5))\n",
    "\n",
    "# save to file\n",
    "dataset.to_csv('pollution.csv')"
   ]
  },
  {
   "cell_type": "code",
   "execution_count": 23,
   "metadata": {},
   "outputs": [
    {
     "data": {
      "image/png": "[encoded data removed]",
      "text/plain": [
       "<matplotlib.figure.Figure at 0x104858518>"
      ]
     },
     "metadata": {},
     "output_type": "display_data"
    },
    {
     "data": {
      "image/png": "[encoded data removed]",
      "text/plain": [
       "<matplotlib.figure.Figure at 0x18256caeb8>"
      ]
     },
     "metadata": {},
     "output_type": "display_data"
    }
   ],
   "source": [
    "from pandas import read_csv\n",
    "from matplotlib import pyplot\n",
    "# load dataset\n",
    "dataset = read_csv('pollution.csv', header=0, index_col=0)\n",
    "values = dataset.values\n",
    "# specify columns to plot\n",
    "groups = [0, 1, 2, 3, 5, 6, 7]\n",
    "i = 1\n",
    "# plot each column\n",
    "pyplot.figure()\n",
    "for group in groups:\n",
    "    pyplot.subplot(len(groups), 1, i)\n",
    "    pyplot.plot(values[:, group])\n",
    "    pyplot.title(dataset.columns[group], y=0.5, loc='right')\n",
    "    i += 1\n",
    "pyplot.show()"
   ]
  },
  {
   "cell_type": "code",
   "execution_count": 29,
   "metadata": {},
   "outputs": [
    {
     "name": "stdout",
     "output_type": "stream",
     "text": [
      "   var1(t-1)  var2(t-1)  var3(t-1)  var4(t-1)  var5(t-1)  var6(t-1)  \\\n",
      "1   0.129779   0.352941   0.245902   0.527273   0.666667   0.002290   \n",
      "2   0.148893   0.367647   0.245902   0.527273   0.666667   0.003811   \n",
      "3   0.159960   0.426471   0.229508   0.545454   0.666667   0.005332   \n",
      "4   0.182093   0.485294   0.229508   0.563637   0.666667   0.008391   \n",
      "5   0.138833   0.485294   0.229508   0.563637   0.666667   0.009912   \n",
      "\n",
      "   var7(t-1)  var8(t-1)   var1(t)  \n",
      "1   0.000000        0.0  0.148893  \n",
      "2   0.000000        0.0  0.159960  \n",
      "3   0.000000        0.0  0.182093  \n",
      "4   0.037037        0.0  0.138833  \n",
      "5   0.074074        0.0  0.109658  \n"
     ]
    }
   ],
   "source": [
    "from sklearn.preprocessing import MinMaxScaler\n",
    "from sklearn.preprocessing import LabelEncoder\n",
    "from pandas import DataFrame\n",
    "from pandas import concat\n",
    "\n",
    "# convert series to supervised learning\n",
    "def series_to_supervised(data, n_in=1, n_out=1, dropnan=True):\n",
    "    n_vars = 1 if type(data) is list else data.shape[1]\n",
    "    df = DataFrame(data)\n",
    "    cols, names = list(), list()\n",
    "    # input sequence (t-n, ... t-1)\n",
    "    for i in range(n_in, 0, -1):\n",
    "        cols.append(df.shift(i))\n",
    "        names += [('var%d(t-%d)' % (j+1, i)) for j in range(n_vars)]\n",
    "    # forecast sequence (t, t+1, ... t+n)\n",
    "    for i in range(0, n_out):\n",
    "        cols.append(df.shift(-i))\n",
    "        if i == 0:\n",
    "            names += [('var%d(t)' % (j+1)) for j in range(n_vars)]\n",
    "        else:\n",
    "            names += [('var%d(t+%d)' % (j+1, i)) for j in range(n_vars)]\n",
    "    # put it all together\n",
    "    agg = concat(cols, axis=1)\n",
    "    agg.columns = names\n",
    "    # drop rows with NaN values\n",
    "    if dropnan:\n",
    "        agg.dropna(inplace=True)\n",
    "    return agg\n",
    "\n",
    "# load dataset\n",
    "dataset = read_csv('pollution.csv', header=0, index_col=0)\n",
    "values = dataset.values\n",
    "# integer encode direction\n",
    "encoder = LabelEncoder()\n",
    "values[:,4] = encoder.fit_transform(values[:,4])\n",
    "# ensure all data is float\n",
    "values = values.astype('float32')\n",
    "# normalize features\n",
    "scaler = MinMaxScaler(feature_range=(0, 1))\n",
    "scaled = scaler.fit_transform(values)\n",
    "# frame as supervised learning\n",
    "reframed = series_to_supervised(scaled, 1, 1)\n",
    "# drop columns we don't want to predict\n",
    "reframed.drop(reframed.columns[[9,10,11,12,13,14,15]], axis=1, inplace=True)\n",
    "print(reframed.head())"
   ]
  },
  {
   "cell_type": "code",
   "execution_count": 40,
   "metadata": {},
   "outputs": [
    {
     "name": "stdout",
     "output_type": "stream",
     "text": [
      "(8760, 1, 8) (8760,) (35039, 1, 8) (35039,)\n"
     ]
    }
   ],
   "source": [
    "# split into train and test sets\n",
    "values = reframed.values\n",
    "n_train_hours = 365 * 24\n",
    "train = values[:n_train_hours, :]\n",
    "test = values[n_train_hours:, :]\n",
    "\n",
    "# split into input and outputs\n",
    "train_X, train_y = train[:, :-1], train[:, -1]\n",
    "test_X, test_y = test[:, :-1], test[:, -1]\n",
    "\n",
    "# reshape input to be 3D [samples, timesteps, features]\n",
    "train_X = train_X.reshape((train_X.shape[0], 1, train_X.shape[1]))\n",
    "test_X = test_X.reshape((test_X.shape[0], 1, test_X.shape[1]))\n",
    "print(train_X.shape, train_y.shape, test_X.shape, test_y.shape)"
   ]
  },
  {
   "cell_type": "code",
   "execution_count": 41,
   "metadata": {},
   "outputs": [
    {
     "name": "stdout",
     "output_type": "stream",
     "text": [
      "Train on 8760 samples, validate on 35039 samples\n",
      "Epoch 1/50\n",
      " - 4s - loss: 0.0593 - val_loss: 0.0507\n",
      "Epoch 2/50\n",
      " - 1s - loss: 0.0424 - val_loss: 0.0526\n",
      "Epoch 3/50\n",
      " - 1s - loss: 0.0261 - val_loss: 0.0419\n",
      "Epoch 4/50\n",
      " - 1s - loss: 0.0182 - val_loss: 0.0385\n",
      "Epoch 5/50\n",
      " - 1s - loss: 0.0164 - val_loss: 0.0295\n",
      "Epoch 6/50\n",
      " - 1s - loss: 0.0153 - val_loss: 0.0202\n",
      "Epoch 7/50\n",
      " - 1s - loss: 0.0149 - val_loss: 0.0174\n",
      "Epoch 8/50\n",
      " - 1s - loss: 0.0146 - val_loss: 0.0161\n",
      "Epoch 9/50\n",
      " - 1s - loss: 0.0148 - val_loss: 0.0161\n",
      "Epoch 10/50\n",
      " - 1s - loss: 0.0148 - val_loss: 0.0155\n",
      "Epoch 11/50\n",
      " - 1s - loss: 0.0146 - val_loss: 0.0145\n",
      "Epoch 12/50\n",
      " - 1s - loss: 0.0145 - val_loss: 0.0144\n",
      "Epoch 13/50\n",
      " - 1s - loss: 0.0145 - val_loss: 0.0140\n",
      "Epoch 14/50\n",
      " - 1s - loss: 0.0145 - val_loss: 0.0138\n",
      "Epoch 15/50\n",
      " - 1s - loss: 0.0145 - val_loss: 0.0139\n",
      "Epoch 16/50\n",
      " - 1s - loss: 0.0146 - val_loss: 0.0138\n",
      "Epoch 17/50\n",
      " - 1s - loss: 0.0145 - val_loss: 0.0136\n",
      "Epoch 18/50\n",
      " - 1s - loss: 0.0144 - val_loss: 0.0136\n",
      "Epoch 19/50\n",
      " - 1s - loss: 0.0144 - val_loss: 0.0135\n",
      "Epoch 20/50\n",
      " - 1s - loss: 0.0144 - val_loss: 0.0135\n",
      "Epoch 21/50\n",
      " - 1s - loss: 0.0144 - val_loss: 0.0136\n",
      "Epoch 22/50\n",
      " - 1s - loss: 0.0145 - val_loss: 0.0135\n",
      "Epoch 23/50\n",
      " - 1s - loss: 0.0145 - val_loss: 0.0135\n",
      "Epoch 24/50\n",
      " - 1s - loss: 0.0145 - val_loss: 0.0135\n",
      "Epoch 25/50\n",
      " - 1s - loss: 0.0144 - val_loss: 0.0135\n",
      "Epoch 26/50\n",
      " - 1s - loss: 0.0145 - val_loss: 0.0136\n",
      "Epoch 27/50\n",
      " - 1s - loss: 0.0144 - val_loss: 0.0136\n",
      "Epoch 28/50\n",
      " - 1s - loss: 0.0144 - val_loss: 0.0136\n",
      "Epoch 29/50\n",
      " - 1s - loss: 0.0144 - val_loss: 0.0135\n",
      "Epoch 30/50\n",
      " - 1s - loss: 0.0144 - val_loss: 0.0136\n",
      "Epoch 31/50\n",
      " - 2s - loss: 0.0144 - val_loss: 0.0135\n",
      "Epoch 32/50\n",
      " - 1s - loss: 0.0144 - val_loss: 0.0136\n",
      "Epoch 33/50\n",
      " - 1s - loss: 0.0144 - val_loss: 0.0135\n",
      "Epoch 34/50\n",
      " - 1s - loss: 0.0144 - val_loss: 0.0135\n",
      "Epoch 35/50\n",
      " - 1s - loss: 0.0143 - val_loss: 0.0135\n",
      "Epoch 36/50\n",
      " - 1s - loss: 0.0144 - val_loss: 0.0135\n",
      "Epoch 37/50\n",
      " - 2s - loss: 0.0144 - val_loss: 0.0135\n",
      "Epoch 38/50\n",
      " - 2s - loss: 0.0144 - val_loss: 0.0136\n",
      "Epoch 39/50\n",
      " - 2s - loss: 0.0144 - val_loss: 0.0137\n",
      "Epoch 40/50\n",
      " - 2s - loss: 0.0144 - val_loss: 0.0136\n",
      "Epoch 41/50\n",
      " - 2s - loss: 0.0143 - val_loss: 0.0135\n",
      "Epoch 42/50\n",
      " - 2s - loss: 0.0143 - val_loss: 0.0135\n",
      "Epoch 43/50\n",
      " - 2s - loss: 0.0143 - val_loss: 0.0136\n",
      "Epoch 44/50\n",
      " - 2s - loss: 0.0144 - val_loss: 0.0134\n",
      "Epoch 45/50\n",
      " - 2s - loss: 0.0143 - val_loss: 0.0136\n",
      "Epoch 46/50\n",
      " - 2s - loss: 0.0144 - val_loss: 0.0136\n",
      "Epoch 47/50\n",
      " - 2s - loss: 0.0143 - val_loss: 0.0135\n",
      "Epoch 48/50\n",
      " - 2s - loss: 0.0143 - val_loss: 0.0135\n",
      "Epoch 49/50\n",
      " - 1s - loss: 0.0144 - val_loss: 0.0134\n",
      "Epoch 50/50\n",
      " - 1s - loss: 0.0143 - val_loss: 0.0135\n"
     ]
    },
    {
     "data": {
      "image/png": "[encoded data removed]",
      "text/plain": [
       "<matplotlib.figure.Figure at 0x1828888e48>"
      ]
     },
     "metadata": {},
     "output_type": "display_data"
    }
   ],
   "source": [
    "# design network\n",
    "model = Sequential()\n",
    "model.add(LSTM(50, input_shape=(train_X.shape[1], train_X.shape[2])))\n",
    "model.add(Dense(1))\n",
    "model.compile(loss='mae', optimizer='adam')\n",
    "# fit network\n",
    "history = model.fit(train_X, train_y, epochs=50, batch_size=72, validation_data=(test_X, test_y), verbose=2, shuffle=False)\n",
    "# plot history\n",
    "pyplot.plot(history.history['loss'], label='train')\n",
    "pyplot.plot(history.history['val_loss'], label='test')\n",
    "pyplot.legend()\n",
    "pyplot.show()"
   ]
  },
  {
   "cell_type": "code",
   "execution_count": 42,
   "metadata": {},
   "outputs": [
    {
     "name": "stdout",
     "output_type": "stream",
     "text": [
      "Test RMSE: 26.433\n"
     ]
    }
   ],
   "source": [
    "from numpy import concatenate\n",
    "from math import sqrt\n",
    "from sklearn.metrics import mean_squared_error\n",
    "\n",
    "# make a prediction\n",
    "yhat = model.predict(test_X)\n",
    "test_X = test_X.reshape((test_X.shape[0], test_X.shape[2]))\n",
    "\n",
    "# invert scaling for forecast\n",
    "inv_yhat = concatenate((yhat, test_X[:, 1:]), axis=1)\n",
    "inv_yhat = scaler.inverse_transform(inv_yhat)\n",
    "inv_yhat = inv_yhat[:,0]\n",
    "\n",
    "# invert scaling for actual\n",
    "test_y = test_y.reshape((len(test_y), 1))\n",
    "inv_y = concatenate((test_y, test_X[:, 1:]), axis=1)\n",
    "inv_y = scaler.inverse_transform(inv_y)\n",
    "inv_y = inv_y[:,0]\n",
    "\n",
    "# calculate RMSE\n",
    "rmse = sqrt(mean_squared_error(inv_y, inv_yhat))\n",
    "print('Test RMSE: %.3f' % rmse)"
   ]
  },
  {
   "cell_type": "code",
   "execution_count": 44,
   "metadata": {},
   "outputs": [
    {
     "data": {
      "text/plain": [
       "(35039, 1)"
      ]
     },
     "execution_count": 44,
     "metadata": {},
     "output_type": "execute_result"
    }
   ],
   "source": [
    "yhat.shape"
   ]
  },
  {
   "cell_type": "code",
   "execution_count": 46,
   "metadata": {},
   "outputs": [
    {
     "data": {
      "text/plain": [
       "((35039, 8), (35039,))"
      ]
     },
     "execution_count": 46,
     "metadata": {},
     "output_type": "execute_result"
    }
   ],
   "source": [
    "test_X.shape, inv_yhat.shape"
   ]
  },
  {
   "cell_type": "code",
   "execution_count": 47,
   "metadata": {},
   "outputs": [
    {
     "data": {
      "text/plain": [
       "(35039, 1)"
      ]
     },
     "execution_count": 47,
     "metadata": {},
     "output_type": "execute_result"
    }
   ],
   "source": [
    "test_y.shape"
   ]
  },
  {
   "cell_type": "markdown",
   "metadata": {},
   "source": [
    "## Train On Multiple Lag Timesteps Example"
   ]
  },
  {
   "cell_type": "code",
   "execution_count": 49,
   "metadata": {
    "scrolled": true
   },
   "outputs": [
    {
     "name": "stdout",
     "output_type": "stream",
     "text": [
      "(43797, 32)\n",
      "(8760, 24) 8760 (8760,)\n",
      "(8760, 3, 8) (8760,) (35037, 3, 8) (35037,)\n",
      "Train on 8760 samples, validate on 35037 samples\n",
      "Epoch 1/50\n",
      " - 4s - loss: 0.0601 - val_loss: 0.0802\n",
      "Epoch 2/50\n",
      " - 2s - loss: 0.0341 - val_loss: 0.0727\n",
      "Epoch 3/50\n",
      " - 3s - loss: 0.0269 - val_loss: 0.0676\n",
      "Epoch 4/50\n",
      " - 2s - loss: 0.0228 - val_loss: 0.0446\n",
      "Epoch 5/50\n",
      " - 3s - loss: 0.0204 - val_loss: 0.0309\n",
      "Epoch 6/50\n",
      " - 2s - loss: 0.0198 - val_loss: 0.0265\n",
      "Epoch 7/50\n",
      " - 2s - loss: 0.0193 - val_loss: 0.0243\n",
      "Epoch 8/50\n",
      " - 2s - loss: 0.0190 - val_loss: 0.0210\n",
      "Epoch 9/50\n",
      " - 2s - loss: 0.0184 - val_loss: 0.0206\n",
      "Epoch 10/50\n",
      " - 2s - loss: 0.0182 - val_loss: 0.0188\n",
      "Epoch 11/50\n",
      " - 2s - loss: 0.0176 - val_loss: 0.0187\n",
      "Epoch 12/50\n",
      " - 2s - loss: 0.0173 - val_loss: 0.0179\n",
      "Epoch 13/50\n",
      " - 2s - loss: 0.0168 - val_loss: 0.0173\n",
      "Epoch 14/50\n",
      " - 1s - loss: 0.0166 - val_loss: 0.0171\n",
      "Epoch 15/50\n",
      " - 1s - loss: 0.0159 - val_loss: 0.0174\n",
      "Epoch 16/50\n",
      " - 1s - loss: 0.0159 - val_loss: 0.0169\n",
      "Epoch 17/50\n",
      " - 2s - loss: 0.0154 - val_loss: 0.0169\n",
      "Epoch 18/50\n",
      " - 2s - loss: 0.0154 - val_loss: 0.0166\n",
      "Epoch 19/50\n",
      " - 2s - loss: 0.0151 - val_loss: 0.0167\n",
      "Epoch 20/50\n",
      " - 2s - loss: 0.0151 - val_loss: 0.0160\n",
      "Epoch 21/50\n",
      " - 1s - loss: 0.0148 - val_loss: 0.0168\n",
      "Epoch 22/50\n",
      " - 2s - loss: 0.0149 - val_loss: 0.0160\n",
      "Epoch 23/50\n",
      " - 2s - loss: 0.0146 - val_loss: 0.0156\n",
      "Epoch 24/50\n",
      " - 2s - loss: 0.0146 - val_loss: 0.0163\n",
      "Epoch 25/50\n",
      " - 2s - loss: 0.0148 - val_loss: 0.0158\n",
      "Epoch 26/50\n",
      " - 1s - loss: 0.0146 - val_loss: 0.0157\n",
      "Epoch 27/50\n",
      " - 2s - loss: 0.0146 - val_loss: 0.0154\n",
      "Epoch 28/50\n",
      " - 1s - loss: 0.0145 - val_loss: 0.0155\n",
      "Epoch 29/50\n",
      " - 2s - loss: 0.0146 - val_loss: 0.0150\n",
      "Epoch 30/50\n",
      " - 2s - loss: 0.0144 - val_loss: 0.0151\n",
      "Epoch 31/50\n",
      " - 2s - loss: 0.0145 - val_loss: 0.0146\n",
      "Epoch 32/50\n",
      " - 2s - loss: 0.0143 - val_loss: 0.0147\n",
      "Epoch 33/50\n",
      " - 2s - loss: 0.0145 - val_loss: 0.0146\n",
      "Epoch 34/50\n",
      " - 2s - loss: 0.0144 - val_loss: 0.0144\n",
      "Epoch 35/50\n",
      " - 2s - loss: 0.0144 - val_loss: 0.0144\n",
      "Epoch 36/50\n",
      " - 2s - loss: 0.0144 - val_loss: 0.0142\n",
      "Epoch 37/50\n",
      " - 2s - loss: 0.0144 - val_loss: 0.0141\n",
      "Epoch 38/50\n",
      " - 2s - loss: 0.0144 - val_loss: 0.0140\n",
      "Epoch 39/50\n",
      " - 2s - loss: 0.0144 - val_loss: 0.0140\n",
      "Epoch 40/50\n",
      " - 2s - loss: 0.0144 - val_loss: 0.0139\n",
      "Epoch 41/50\n",
      " - 2s - loss: 0.0144 - val_loss: 0.0139\n",
      "Epoch 42/50\n",
      " - 2s - loss: 0.0143 - val_loss: 0.0140\n",
      "Epoch 43/50\n",
      " - 1s - loss: 0.0143 - val_loss: 0.0143\n",
      "Epoch 44/50\n",
      " - 1s - loss: 0.0144 - val_loss: 0.0139\n",
      "Epoch 45/50\n",
      " - 1s - loss: 0.0144 - val_loss: 0.0139\n",
      "Epoch 46/50\n",
      " - 2s - loss: 0.0144 - val_loss: 0.0136\n",
      "Epoch 47/50\n",
      " - 1s - loss: 0.0143 - val_loss: 0.0139\n",
      "Epoch 48/50\n",
      " - 1s - loss: 0.0143 - val_loss: 0.0137\n",
      "Epoch 49/50\n",
      " - 1s - loss: 0.0143 - val_loss: 0.0138\n",
      "Epoch 50/50\n",
      " - 1s - loss: 0.0143 - val_loss: 0.0138\n"
     ]
    },
    {
     "data": {
      "image/png": "[encoded data removed]",
      "text/plain": [
       "<matplotlib.figure.Figure at 0x182af89860>"
      ]
     },
     "metadata": {},
     "output_type": "display_data"
    },
    {
     "name": "stdout",
     "output_type": "stream",
     "text": [
      "Test RMSE: 26.504\n"
     ]
    }
   ],
   "source": [
    "from math import sqrt\n",
    "from numpy import concatenate\n",
    "from matplotlib import pyplot\n",
    "from pandas import read_csv\n",
    "from pandas import DataFrame\n",
    "from pandas import concat\n",
    "from sklearn.preprocessing import MinMaxScaler\n",
    "from sklearn.preprocessing import LabelEncoder\n",
    "from sklearn.metrics import mean_squared_error\n",
    "from keras.models import Sequential\n",
    "from keras.layers import Dense\n",
    "from keras.layers import LSTM\n",
    "\n",
    "# convert series to supervised learning\n",
    "def series_to_supervised(data, n_in=1, n_out=1, dropnan=True):\n",
    "\tn_vars = 1 if type(data) is list else data.shape[1]\n",
    "\tdf = DataFrame(data)\n",
    "\tcols, names = list(), list()\n",
    "\t# input sequence (t-n, ... t-1)\n",
    "\tfor i in range(n_in, 0, -1):\n",
    "\t\tcols.append(df.shift(i))\n",
    "\t\tnames += [('var%d(t-%d)' % (j+1, i)) for j in range(n_vars)]\n",
    "\t# forecast sequence (t, t+1, ... t+n)\n",
    "\tfor i in range(0, n_out):\n",
    "\t\tcols.append(df.shift(-i))\n",
    "\t\tif i == 0:\n",
    "\t\t\tnames += [('var%d(t)' % (j+1)) for j in range(n_vars)]\n",
    "\t\telse:\n",
    "\t\t\tnames += [('var%d(t+%d)' % (j+1, i)) for j in range(n_vars)]\n",
    "\t# put it all together\n",
    "\tagg = concat(cols, axis=1)\n",
    "\tagg.columns = names\n",
    "\t# drop rows with NaN values\n",
    "\tif dropnan:\n",
    "\t\tagg.dropna(inplace=True)\n",
    "\treturn agg\n",
    "\n",
    "# load dataset\n",
    "dataset = read_csv('pollution.csv', header=0, index_col=0)\n",
    "values = dataset.values\n",
    "# integer encode direction\n",
    "encoder = LabelEncoder()\n",
    "values[:,4] = encoder.fit_transform(values[:,4])\n",
    "# ensure all data is float\n",
    "values = values.astype('float32')\n",
    "# normalize features\n",
    "scaler = MinMaxScaler(feature_range=(0, 1))\n",
    "scaled = scaler.fit_transform(values)\n",
    "# specify the number of lag hours\n",
    "n_hours = 3\n",
    "n_features = 8\n",
    "# frame as supervised learning\n",
    "reframed = series_to_supervised(scaled, n_hours, 1)\n",
    "print(reframed.shape)\n",
    "\n",
    "# split into train and test sets\n",
    "values = reframed.values\n",
    "n_train_hours = 365 * 24\n",
    "train = values[:n_train_hours, :]\n",
    "test = values[n_train_hours:, :]\n",
    "# split into input and outputs\n",
    "n_obs = n_hours * n_features\n",
    "train_X, train_y = train[:, :n_obs], train[:, -n_features]\n",
    "test_X, test_y = test[:, :n_obs], test[:, -n_features]\n",
    "print(train_X.shape, len(train_X), train_y.shape)\n",
    "# reshape input to be 3D [samples, timesteps, features]\n",
    "train_X = train_X.reshape((train_X.shape[0], n_hours, n_features))\n",
    "test_X = test_X.reshape((test_X.shape[0], n_hours, n_features))\n",
    "print(train_X.shape, train_y.shape, test_X.shape, test_y.shape)\n",
    "\n",
    "# design network\n",
    "model = Sequential()\n",
    "model.add(LSTM(50, input_shape=(train_X.shape[1], train_X.shape[2])))\n",
    "model.add(Dense(1))\n",
    "model.compile(loss='mae', optimizer='adam')\n",
    "# fit network\n",
    "history = model.fit(train_X, train_y, epochs=50, batch_size=72, validation_data=(test_X, test_y), verbose=2, shuffle=False)\n",
    "# plot history\n",
    "pyplot.plot(history.history['loss'], label='train')\n",
    "pyplot.plot(history.history['val_loss'], label='test')\n",
    "pyplot.legend()\n",
    "pyplot.show()\n",
    "\n",
    "# make a prediction\n",
    "yhat = model.predict(test_X)\n",
    "test_X = test_X.reshape((test_X.shape[0], n_hours*n_features))\n",
    "# invert scaling for forecast\n",
    "inv_yhat = concatenate((yhat, test_X[:, -7:]), axis=1)\n",
    "inv_yhat = scaler.inverse_transform(inv_yhat)\n",
    "inv_yhat = inv_yhat[:,0]\n",
    "# invert scaling for actual\n",
    "test_y = test_y.reshape((len(test_y), 1))\n",
    "inv_y = concatenate((test_y, test_X[:, -7:]), axis=1)\n",
    "inv_y = scaler.inverse_transform(inv_y)\n",
    "inv_y = inv_y[:,0]\n",
    "# calculate RMSE\n",
    "rmse = sqrt(mean_squared_error(inv_y, inv_yhat))\n",
    "print('Test RMSE: %.3f' % rmse)"
   ]
  },
  {
   "cell_type": "code",
   "execution_count": null,
   "metadata": {},
   "outputs": [],
   "source": []
  }
 ],
 "metadata": {
  "kernelspec": {
   "display_name": "Python 3",
   "language": "python",
   "name": "python3"
  },
  "language_info": {
   "codemirror_mode": {
    "name": "ipython",
    "version": 3
   },
   "file_extension": ".py",
   "mimetype": "text/x-python",
   "name": "python",
   "nbconvert_exporter": "python",
   "pygments_lexer": "ipython3",
   "version": "3.5.4"
  }
 },
 "nbformat": 4,
 "nbformat_minor": 2
}
